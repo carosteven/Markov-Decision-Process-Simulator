{
 "cells": [
  {
   "cell_type": "markdown",
   "metadata": {},
   "source": [
    "## Toymaker Example"
   ]
  },
  {
   "cell_type": "markdown",
   "metadata": {},
   "source": [
    "### The Setup"
   ]
  },
  {
   "cell_type": "markdown",
   "metadata": {},
   "source": [
    "An example of an idealized model for a manufacturing process. State $x=1$ is associated with the production of a successful toy and state $x=2$ is associated with the production of an unsuccessful toy. The four possible decisions represent the following actions:\n",
    "\\begin{align*}\n",
    "    &u=1 \\text{ no advertising and no research} \\\\\n",
    "    &u=2 \\text{ no advertising, but research} \\\\\n",
    "    &u=3 \\text{ advertising, but no research} \\\\\n",
    "    &u=4 \\text{ advertising and research}\n",
    "\\end{align*}\n",
    "\n",
    "The inclusion of uncertainty in the state information corresponds to the case that the manufacturer does not know whether the toy currently being produced is going to be successful or not. The problem to solve is to maximize the profit over four steps:\n",
    "\\begin{equation*}\n",
    "    \\max \\sum^4_{t=1} g(x_t, u(t))\n",
    "\\end{equation*}\n",
    "\n",
    "The transition matrix, instantaneous cost function, and observation matrix are defined below:"
   ]
  },
  {
   "cell_type": "code",
   "execution_count": 1,
   "metadata": {},
   "outputs": [
    {
     "name": "stdout",
     "output_type": "stream",
     "text": [
      "Transition Matrix, P: \n",
      "[[[0.5 0.5]\n",
      "  [0.4 0.6]]\n",
      "\n",
      " [[0.5 0.5]\n",
      "  [0.7 0.3]]\n",
      "\n",
      " [[0.8 0.2]\n",
      "  [0.4 0.6]]\n",
      "\n",
      " [[0.8 0.2]\n",
      "  [0.7 0.3]]]\n",
      "\n",
      "Instantaneous Cost Function, g(u, x, t) (independent of t): \n",
      "[[ 20  -5]\n",
      " [ 17  -8]\n",
      " [ 10 -15]\n",
      " [  7 -18]]\n",
      "\n",
      "Observation Matrix, Q: \n",
      "[[0.8 0.2]\n",
      " [0.3 0.7]]\n"
     ]
    }
   ],
   "source": [
    "import numpy as np\n",
    "import sympy as sp\n",
    "\n",
    "# Number of steps\n",
    "N = 4\n",
    "\n",
    "# Set of possible states\n",
    "X= [0, 1]\n",
    "\n",
    "# Set of possible controls\n",
    "U=  [0, 1, 2, 3]\n",
    "\n",
    "# Transition Matrix, P\n",
    "P1 = [[0.5, 0.5],\n",
    "      [0.4, 0.6]]\n",
    "P2 = [[0.5, 0.5],\n",
    "      [0.7, 0.3]]\n",
    "P3 = [[0.8, 0.2],\n",
    "      [0.4, 0.6]]\n",
    "P4 = [[0.8, 0.2],\n",
    "      [0.7, 0.3]]\n",
    "P = np.array([P1, P2, P3, P4])\n",
    "\n",
    "# Probability x is in a given state\n",
    "w0 = sp.symbols('w0')\n",
    "w1 = 1 - w0\n",
    "W = [w0, w1]\n",
    "        \n",
    "# Instantaneous Cost Function, g(u, x, t) (independent of t)\n",
    "g= [[20, -5],\n",
    "    [17, -8],\n",
    "    [10, -15],\n",
    "    [7, -18]]\n",
    "g = np.array(g)\n",
    "\n",
    "# Observation Matrix, Q\n",
    "Q= [[0.8, 0.2],\n",
    "    [0.3, 0.7]]\n",
    "Q = np.array(Q)\n",
    "\n",
    "print(f'Transition Matrix, P: \\n{P}\\n')\n",
    "print(f'Instantaneous Cost Function, g(u, x, t) (independent of t): \\n{g}\\n')\n",
    "print(f'Observation Matrix, Q: \\n{Q}')\n",
    "\n"
   ]
  },
  {
   "cell_type": "code",
   "execution_count": 2,
   "metadata": {},
   "outputs": [],
   "source": [
    "# Max Finder\n",
    "def maximizer(expectation, eps=0.01):\n",
    "    max = None\n",
    "    argmax = []\n",
    "    new_argmax = 0\n",
    "    \n",
    "    for i in np.arange(0,1+eps,eps):\n",
    "        for u, eqn in enumerate(expectation):\n",
    "            ans = eqn.subs(w0, i)\n",
    "            if max == None:\n",
    "                max = ans\n",
    "                new_argmax = u\n",
    "\n",
    "            if ans > max:\n",
    "                max = ans\n",
    "                new_argmax = u\n",
    "        \n",
    "        if len(argmax) == 0:\n",
    "            argmax.append([new_argmax, i])\n",
    "\n",
    "        if new_argmax != argmax[-1][0]:\n",
    "            argmax.append([new_argmax, i])\n",
    "\n",
    "    return argmax\n",
    "\n",
    "def calc_z_j(W, u, j):\n",
    "    z_j = []\n",
    "    for i in X:\n",
    "        z = Q[i,j]*np.dot(P[u,:,i],W[:])\n",
    "        z = sp.nsimplify((z), tolerance=1e-10).evalf()\n",
    "        z_j.append(z)\n",
    "    return z_j\n",
    "\n",
    "def calc_z_j_norm(z_j):\n",
    "    norm = 0\n",
    "    for i in X:\n",
    "        norm += z_j[i]\n",
    "    return norm\n",
    "\n",
    "def V_k(W, k, eps=0.01, disp_results=False):\n",
    "    if k == N:\n",
    "        expectation = []\n",
    "        for u in U:\n",
    "            expectation.append(np.dot(g[u,:],W))\n",
    "        argmax_u = maximizer(expectation)\n",
    "        return [expectation[u[0]] for u in argmax_u], argmax_u\n",
    "    \n",
    "    expectation = []\n",
    "    for u in U:\n",
    "        sum = np.dot(g[u,:],W)\n",
    "        sum_V = 0\n",
    "        for j in X:\n",
    "            Wk = []\n",
    "            z_j = calc_z_j(W, u, j)\n",
    "            z_j_norm = calc_z_j_norm(z_j)\n",
    "            for i in X:\n",
    "                Wk.append(z_j[i] / z_j_norm)\n",
    "            \n",
    "            sum_V += V_k(Wk, k+1)[0][0]*z_j_norm\n",
    "\n",
    "        sum += sum_V\n",
    "        expectation.append(sp.simplify(sp.nsimplify(sum, tolerance=1e-10)).evalf())\n",
    "\n",
    "        if disp_results:\n",
    "            print(f\"u={u}\", end=\"    \")\n",
    "            print(expectation[u])\n",
    "\n",
    "    argmax_u = maximizer(expectation, eps=eps)\n",
    "    return [expectation[u[0]] for u in argmax_u], argmax_u"
   ]
  },
  {
   "cell_type": "markdown",
   "metadata": {},
   "source": [
    "### To Solve\n",
    "The value function is defined by\n",
    "\\begin{equation*}\n",
    "    V_N=\\min_u \\underset{|\\eta(N)}{\\mathbb E} g(u, x_N, N)\n",
    "\\end{equation*}\n",
    "From this, we get\n",
    "\n",
    "\\begin{equation*}\n",
    "    V_4(w)=\\max \\mathbb E g(u,x_4)= 20 w_1(4) - 5 w_2(4)\n",
    "\\end{equation*}"
   ]
  },
  {
   "cell_type": "code",
   "execution_count": 3,
   "metadata": {},
   "outputs": [
    {
     "name": "stdout",
     "output_type": "stream",
     "text": [
      "V4(w) =    25*w0 - 5\n"
     ]
    }
   ],
   "source": [
    "# For t=4\n",
    "V4, argmax4 = V_k(W, k=4)\n",
    "print(f\"V4(w) =    {V4[0]}\")"
   ]
  },
  {
   "cell_type": "code",
   "execution_count": 4,
   "metadata": {},
   "outputs": [
    {
     "name": "stdout",
     "output_type": "stream",
     "text": [
      "u=0    27.5*w0\n",
      "u=1    20.0*w0 + 4.5\n",
      "u=2    35.0*w0 - 10.0\n",
      "u=3    27.5*w0 - 5.5\n",
      "\n",
      "V3(w) =    20.0*w0 + 4.5,        w0 <= 0.6\n",
      "           27.5*w0,              w0 >  0.6\n"
     ]
    }
   ],
   "source": [
    "# For t=3\n",
    "V3, argmax3 = (V_k(W, k=3, disp_results=True))\n",
    "\n",
    "print()\n",
    "print(f\"V3(w) =    {V3[0]},        w0 <= {argmax3[1][1]}\")\n",
    "print(f\"           {V3[1]},              w0 >  {argmax3[1][1]}\")"
   ]
  },
  {
   "cell_type": "code",
   "execution_count": 5,
   "metadata": {},
   "outputs": [
    {
     "name": "stdout",
     "output_type": "stream",
     "text": [
      "u=0    27.375*w0 + 7.65\n",
      "u=1    20.25*w0 + 11.775\n",
      "u=2    34.5*w0 - 2.35\n",
      "u=3    27.375*w0 + 1.775\n",
      "\n",
      "V2(w) =    20.25*w0 + 11.775,    w0 <= 0.579\n",
      "           27.375*w0 + 7.65,     w0 >  0.579\n"
     ]
    }
   ],
   "source": [
    "# For t=2\n",
    "V2, argmax2 = (V_k(W, k=2, eps=0.001, disp_results=True))\n",
    "\n",
    "print()\n",
    "print(f\"V2(w) =    {V2[0]},    w0 <= {argmax2[1][1]}\")\n",
    "print(f\"           {V2[1]},     w0 >  {argmax2[1][1]}\")"
   ]
  },
  {
   "cell_type": "code",
   "execution_count": 6,
   "metadata": {},
   "outputs": [
    {
     "name": "stdout",
     "output_type": "stream",
     "text": [
      "u=0    27.38875*w0 + 15.0925\n",
      "u=1    20.2225*w0 + 19.25875\n",
      "u=2    34.555*w0 + 5.0925\n",
      "u=3    27.38875*w0 + 9.25875\n",
      "\n",
      "V1(w) =    20.2225*w0 + 19.25875,    w0 <= 0.582\n",
      "           27.38875*w0 + 15.0925,    w0 >  0.582\n"
     ]
    }
   ],
   "source": [
    "# For t=1\n",
    "V1, argmax1 = (V_k(W, k=1, eps=0.001, disp_results=True))\n",
    "\n",
    "print()\n",
    "print(f\"V1(w) =    {V1[0]},    w0 <= {argmax1[1][1]}\")\n",
    "print(f\"           {V1[1]},    w0 >  {argmax1[1][1]}\")"
   ]
  },
  {
   "cell_type": "markdown",
   "metadata": {},
   "source": [
    "# Graphing the optimal value of the cost function"
   ]
  },
  {
   "cell_type": "code",
   "execution_count": 7,
   "metadata": {},
   "outputs": [
    {
     "data": {
      "image/png": "[encoded data removed]",
      "text/plain": [
       "<Figure size 640x480 with 1 Axes>"
      ]
     },
     "metadata": {},
     "output_type": "display_data"
    }
   ],
   "source": [
    "V1_pw = sp.Piecewise((V1[0], w0 <= argmax1[1][1]), (V1[1], w0 > argmax1[1][1]))\n",
    "V2_pw = sp.Piecewise((V2[0], w0 <= argmax2[1][1]), (V2[1], w0 > argmax2[1][1]))\n",
    "V3_pw = sp.Piecewise((V3[0], w0 <= argmax3[1][1]), (V3[1], w0 > argmax3[1][1]))\n",
    "\n",
    "p = sp.plot((V1_pw, (w0, 0, 1)), line_color='blue', label='V1', show=False)\n",
    "p.extend(sp.plot(V2_pw, (w0, 0, 1), line_color='green', label='V2', show=False))\n",
    "p.extend(sp.plot(V3_pw, (w0, 0, 1), line_color='red', label='V3', show=False))\n",
    "p.extend(sp.plot(V4[0], (w0, 0, 1), line_color='black', label='V4', show=False))\n",
    "\n",
    "p.xlabel = 'w0'\n",
    "p.ylabel = 'V'\n",
    "p.legend = True\n",
    "p.show()"
   ]
  }
 ],
 "metadata": {
  "kernelspec": {
   "display_name": "Python 3",
   "language": "python",
   "name": "python3"
  },
  "language_info": {
   "codemirror_mode": {
    "name": "ipython",
    "version": 3
   },
   "file_extension": ".py",
   "mimetype": "text/x-python",
   "name": "python",
   "nbconvert_exporter": "python",
   "pygments_lexer": "ipython3",
   "version": "3.9.4"
  }
 },
 "nbformat": 4,
 "nbformat_minor": 2
}
